{
 "cells": [
  {
   "cell_type": "code",
   "execution_count": 1,
   "id": "3234622d",
   "metadata": {},
   "outputs": [],
   "source": [
    "#importing libraries to be used\n",
    "import numpy as np \n",
    "import pandas as pd \n",
    "import matplotlib.pyplot as plt \n",
    "import seaborn as sns\n",
    "%matplotlib inline\n",
    "import warnings\n",
    "warnings.filterwarnings('ignore') \n",
    "from sklearn.preprocessing import MinMaxScaler \n",
    "from keras.models import Sequential\n",
    "from keras.layers import Dense, Dropout, LSTM, Bidirectional"
   ]
  },
  {
   "cell_type": "markdown",
   "id": "1460951d",
   "metadata": {},
   "source": [
    "# Read csv file (NETFLIX stock price year 2010- 2022)"
   ]
  },
  {
   "cell_type": "code",
   "execution_count": 2,
   "id": "6b6f7dd2",
   "metadata": {},
   "outputs": [
    {
     "data": {
      "text/html": [
       "<div>\n",
       "<style scoped>\n",
       "    .dataframe tbody tr th:only-of-type {\n",
       "        vertical-align: middle;\n",
       "    }\n",
       "\n",
       "    .dataframe tbody tr th {\n",
       "        vertical-align: top;\n",
       "    }\n",
       "\n",
       "    .dataframe thead th {\n",
       "        text-align: right;\n",
       "    }\n",
       "</style>\n",
       "<table border=\"1\" class=\"dataframe\">\n",
       "  <thead>\n",
       "    <tr style=\"text-align: right;\">\n",
       "      <th></th>\n",
       "      <th>Date</th>\n",
       "      <th>Open</th>\n",
       "      <th>High</th>\n",
       "      <th>Low</th>\n",
       "      <th>Close</th>\n",
       "      <th>Adj Close</th>\n",
       "      <th>Volume</th>\n",
       "    </tr>\n",
       "  </thead>\n",
       "  <tbody>\n",
       "    <tr>\n",
       "      <th>0</th>\n",
       "      <td>2010-01-04</td>\n",
       "      <td>7.931429</td>\n",
       "      <td>7.961429</td>\n",
       "      <td>7.565714</td>\n",
       "      <td>7.640000</td>\n",
       "      <td>7.640000</td>\n",
       "      <td>17239600</td>\n",
       "    </tr>\n",
       "    <tr>\n",
       "      <th>1</th>\n",
       "      <td>2010-01-05</td>\n",
       "      <td>7.652857</td>\n",
       "      <td>7.657143</td>\n",
       "      <td>7.258571</td>\n",
       "      <td>7.358571</td>\n",
       "      <td>7.358571</td>\n",
       "      <td>23753100</td>\n",
       "    </tr>\n",
       "    <tr>\n",
       "      <th>2</th>\n",
       "      <td>2010-01-06</td>\n",
       "      <td>7.361429</td>\n",
       "      <td>7.672857</td>\n",
       "      <td>7.197143</td>\n",
       "      <td>7.617143</td>\n",
       "      <td>7.617143</td>\n",
       "      <td>23290400</td>\n",
       "    </tr>\n",
       "    <tr>\n",
       "      <th>3</th>\n",
       "      <td>2010-01-07</td>\n",
       "      <td>7.731429</td>\n",
       "      <td>7.757143</td>\n",
       "      <td>7.462857</td>\n",
       "      <td>7.485714</td>\n",
       "      <td>7.485714</td>\n",
       "      <td>9955400</td>\n",
       "    </tr>\n",
       "    <tr>\n",
       "      <th>4</th>\n",
       "      <td>2010-01-08</td>\n",
       "      <td>7.498571</td>\n",
       "      <td>7.742857</td>\n",
       "      <td>7.465714</td>\n",
       "      <td>7.614286</td>\n",
       "      <td>7.614286</td>\n",
       "      <td>8180900</td>\n",
       "    </tr>\n",
       "    <tr>\n",
       "      <th>5</th>\n",
       "      <td>2010-01-11</td>\n",
       "      <td>7.660000</td>\n",
       "      <td>7.704286</td>\n",
       "      <td>7.528571</td>\n",
       "      <td>7.604286</td>\n",
       "      <td>7.604286</td>\n",
       "      <td>6783700</td>\n",
       "    </tr>\n",
       "    <tr>\n",
       "      <th>6</th>\n",
       "      <td>2010-01-12</td>\n",
       "      <td>7.528571</td>\n",
       "      <td>7.582857</td>\n",
       "      <td>7.451429</td>\n",
       "      <td>7.481429</td>\n",
       "      <td>7.481429</td>\n",
       "      <td>6330100</td>\n",
       "    </tr>\n",
       "    <tr>\n",
       "      <th>7</th>\n",
       "      <td>2010-01-13</td>\n",
       "      <td>7.612857</td>\n",
       "      <td>7.754286</td>\n",
       "      <td>7.558571</td>\n",
       "      <td>7.708571</td>\n",
       "      <td>7.708571</td>\n",
       "      <td>14422100</td>\n",
       "    </tr>\n",
       "    <tr>\n",
       "      <th>8</th>\n",
       "      <td>2010-01-14</td>\n",
       "      <td>7.518571</td>\n",
       "      <td>7.575714</td>\n",
       "      <td>7.270000</td>\n",
       "      <td>7.284286</td>\n",
       "      <td>7.284286</td>\n",
       "      <td>17685500</td>\n",
       "    </tr>\n",
       "    <tr>\n",
       "      <th>9</th>\n",
       "      <td>2010-01-15</td>\n",
       "      <td>7.245714</td>\n",
       "      <td>7.407143</td>\n",
       "      <td>7.232857</td>\n",
       "      <td>7.278571</td>\n",
       "      <td>7.278571</td>\n",
       "      <td>13031200</td>\n",
       "    </tr>\n",
       "  </tbody>\n",
       "</table>\n",
       "</div>"
      ],
      "text/plain": [
       "         Date      Open      High       Low     Close  Adj Close    Volume\n",
       "0  2010-01-04  7.931429  7.961429  7.565714  7.640000   7.640000  17239600\n",
       "1  2010-01-05  7.652857  7.657143  7.258571  7.358571   7.358571  23753100\n",
       "2  2010-01-06  7.361429  7.672857  7.197143  7.617143   7.617143  23290400\n",
       "3  2010-01-07  7.731429  7.757143  7.462857  7.485714   7.485714   9955400\n",
       "4  2010-01-08  7.498571  7.742857  7.465714  7.614286   7.614286   8180900\n",
       "5  2010-01-11  7.660000  7.704286  7.528571  7.604286   7.604286   6783700\n",
       "6  2010-01-12  7.528571  7.582857  7.451429  7.481429   7.481429   6330100\n",
       "7  2010-01-13  7.612857  7.754286  7.558571  7.708571   7.708571  14422100\n",
       "8  2010-01-14  7.518571  7.575714  7.270000  7.284286   7.284286  17685500\n",
       "9  2010-01-15  7.245714  7.407143  7.232857  7.278571   7.278571  13031200"
      ]
     },
     "execution_count": 2,
     "metadata": {},
     "output_type": "execute_result"
    }
   ],
   "source": [
    "# data_importing\n",
    "df = pd.read_csv(\"NFLX.csv\")\n",
    "# fetching first 10 rows of dataset\n",
    "df.head(10) "
   ]
  },
  {
   "cell_type": "markdown",
   "id": "20814a2e",
   "metadata": {},
   "source": [
    "# Data Exploration & Cleaning"
   ]
  },
  {
   "cell_type": "code",
   "execution_count": 3,
   "id": "5b6fb078",
   "metadata": {},
   "outputs": [
    {
     "data": {
      "text/html": [
       "<div>\n",
       "<style scoped>\n",
       "    .dataframe tbody tr th:only-of-type {\n",
       "        vertical-align: middle;\n",
       "    }\n",
       "\n",
       "    .dataframe tbody tr th {\n",
       "        vertical-align: top;\n",
       "    }\n",
       "\n",
       "    .dataframe thead th {\n",
       "        text-align: right;\n",
       "    }\n",
       "</style>\n",
       "<table border=\"1\" class=\"dataframe\">\n",
       "  <thead>\n",
       "    <tr style=\"text-align: right;\">\n",
       "      <th></th>\n",
       "      <th>Date</th>\n",
       "      <th>Open</th>\n",
       "      <th>High</th>\n",
       "      <th>Low</th>\n",
       "      <th>Close</th>\n",
       "      <th>Adj Close</th>\n",
       "      <th>Volume</th>\n",
       "    </tr>\n",
       "  </thead>\n",
       "  <tbody>\n",
       "    <tr>\n",
       "      <th>3114</th>\n",
       "      <td>2022-05-17</td>\n",
       "      <td>189.169998</td>\n",
       "      <td>191.399994</td>\n",
       "      <td>185.169998</td>\n",
       "      <td>190.559998</td>\n",
       "      <td>190.559998</td>\n",
       "      <td>9876700</td>\n",
       "    </tr>\n",
       "    <tr>\n",
       "      <th>3115</th>\n",
       "      <td>2022-05-18</td>\n",
       "      <td>186.720001</td>\n",
       "      <td>187.699997</td>\n",
       "      <td>176.270004</td>\n",
       "      <td>177.190002</td>\n",
       "      <td>177.190002</td>\n",
       "      <td>9665600</td>\n",
       "    </tr>\n",
       "    <tr>\n",
       "      <th>3116</th>\n",
       "      <td>2022-05-19</td>\n",
       "      <td>178.050003</td>\n",
       "      <td>186.300003</td>\n",
       "      <td>175.710007</td>\n",
       "      <td>183.479996</td>\n",
       "      <td>183.479996</td>\n",
       "      <td>10448500</td>\n",
       "    </tr>\n",
       "    <tr>\n",
       "      <th>3117</th>\n",
       "      <td>2022-05-20</td>\n",
       "      <td>185.869995</td>\n",
       "      <td>190.190002</td>\n",
       "      <td>179.770004</td>\n",
       "      <td>186.350006</td>\n",
       "      <td>186.350006</td>\n",
       "      <td>10422600</td>\n",
       "    </tr>\n",
       "    <tr>\n",
       "      <th>3118</th>\n",
       "      <td>2022-05-23</td>\n",
       "      <td>186.149994</td>\n",
       "      <td>187.660004</td>\n",
       "      <td>177.889999</td>\n",
       "      <td>187.440002</td>\n",
       "      <td>187.440002</td>\n",
       "      <td>9558000</td>\n",
       "    </tr>\n",
       "  </tbody>\n",
       "</table>\n",
       "</div>"
      ],
      "text/plain": [
       "            Date        Open        High         Low       Close   Adj Close  \\\n",
       "3114  2022-05-17  189.169998  191.399994  185.169998  190.559998  190.559998   \n",
       "3115  2022-05-18  186.720001  187.699997  176.270004  177.190002  177.190002   \n",
       "3116  2022-05-19  178.050003  186.300003  175.710007  183.479996  183.479996   \n",
       "3117  2022-05-20  185.869995  190.190002  179.770004  186.350006  186.350006   \n",
       "3118  2022-05-23  186.149994  187.660004  177.889999  187.440002  187.440002   \n",
       "\n",
       "        Volume  \n",
       "3114   9876700  \n",
       "3115   9665600  \n",
       "3116  10448500  \n",
       "3117  10422600  \n",
       "3118   9558000  "
      ]
     },
     "execution_count": 3,
     "metadata": {},
     "output_type": "execute_result"
    }
   ],
   "source": [
    "df.tail()"
   ]
  },
  {
   "cell_type": "code",
   "execution_count": 4,
   "id": "2498d587",
   "metadata": {},
   "outputs": [
    {
     "data": {
      "text/plain": [
       "(3119, 7)"
      ]
     },
     "execution_count": 4,
     "metadata": {},
     "output_type": "execute_result"
    }
   ],
   "source": [
    "df.shape"
   ]
  },
  {
   "cell_type": "code",
   "execution_count": 5,
   "id": "c9c13334",
   "metadata": {},
   "outputs": [
    {
     "data": {
      "text/html": [
       "<div>\n",
       "<style scoped>\n",
       "    .dataframe tbody tr th:only-of-type {\n",
       "        vertical-align: middle;\n",
       "    }\n",
       "\n",
       "    .dataframe tbody tr th {\n",
       "        vertical-align: top;\n",
       "    }\n",
       "\n",
       "    .dataframe thead th {\n",
       "        text-align: right;\n",
       "    }\n",
       "</style>\n",
       "<table border=\"1\" class=\"dataframe\">\n",
       "  <thead>\n",
       "    <tr style=\"text-align: right;\">\n",
       "      <th></th>\n",
       "      <th>Open</th>\n",
       "      <th>High</th>\n",
       "      <th>Low</th>\n",
       "      <th>Close</th>\n",
       "      <th>Adj Close</th>\n",
       "      <th>Volume</th>\n",
       "    </tr>\n",
       "  </thead>\n",
       "  <tbody>\n",
       "    <tr>\n",
       "      <th>count</th>\n",
       "      <td>3119.000000</td>\n",
       "      <td>3119.000000</td>\n",
       "      <td>3119.000000</td>\n",
       "      <td>3119.000000</td>\n",
       "      <td>3119.000000</td>\n",
       "      <td>3.119000e+03</td>\n",
       "    </tr>\n",
       "    <tr>\n",
       "      <th>mean</th>\n",
       "      <td>185.774606</td>\n",
       "      <td>188.574990</td>\n",
       "      <td>182.773507</td>\n",
       "      <td>185.747629</td>\n",
       "      <td>185.747629</td>\n",
       "      <td>1.879939e+07</td>\n",
       "    </tr>\n",
       "    <tr>\n",
       "      <th>std</th>\n",
       "      <td>182.675775</td>\n",
       "      <td>185.222112</td>\n",
       "      <td>179.874082</td>\n",
       "      <td>182.575796</td>\n",
       "      <td>182.575796</td>\n",
       "      <td>2.091301e+07</td>\n",
       "    </tr>\n",
       "    <tr>\n",
       "      <th>min</th>\n",
       "      <td>6.960000</td>\n",
       "      <td>7.178571</td>\n",
       "      <td>6.931429</td>\n",
       "      <td>7.018571</td>\n",
       "      <td>7.018571</td>\n",
       "      <td>1.144000e+06</td>\n",
       "    </tr>\n",
       "    <tr>\n",
       "      <th>25%</th>\n",
       "      <td>33.255714</td>\n",
       "      <td>33.815000</td>\n",
       "      <td>32.611429</td>\n",
       "      <td>33.328571</td>\n",
       "      <td>33.328571</td>\n",
       "      <td>6.233250e+06</td>\n",
       "    </tr>\n",
       "    <tr>\n",
       "      <th>50%</th>\n",
       "      <td>100.209999</td>\n",
       "      <td>102.110001</td>\n",
       "      <td>98.529999</td>\n",
       "      <td>100.230003</td>\n",
       "      <td>100.230003</td>\n",
       "      <td>1.232560e+07</td>\n",
       "    </tr>\n",
       "    <tr>\n",
       "      <th>75%</th>\n",
       "      <td>336.800003</td>\n",
       "      <td>342.384995</td>\n",
       "      <td>331.125000</td>\n",
       "      <td>337.539993</td>\n",
       "      <td>337.539993</td>\n",
       "      <td>2.342225e+07</td>\n",
       "    </tr>\n",
       "    <tr>\n",
       "      <th>max</th>\n",
       "      <td>692.349976</td>\n",
       "      <td>700.989990</td>\n",
       "      <td>686.090027</td>\n",
       "      <td>691.690002</td>\n",
       "      <td>691.690002</td>\n",
       "      <td>3.155418e+08</td>\n",
       "    </tr>\n",
       "  </tbody>\n",
       "</table>\n",
       "</div>"
      ],
      "text/plain": [
       "              Open         High          Low        Close    Adj Close  \\\n",
       "count  3119.000000  3119.000000  3119.000000  3119.000000  3119.000000   \n",
       "mean    185.774606   188.574990   182.773507   185.747629   185.747629   \n",
       "std     182.675775   185.222112   179.874082   182.575796   182.575796   \n",
       "min       6.960000     7.178571     6.931429     7.018571     7.018571   \n",
       "25%      33.255714    33.815000    32.611429    33.328571    33.328571   \n",
       "50%     100.209999   102.110001    98.529999   100.230003   100.230003   \n",
       "75%     336.800003   342.384995   331.125000   337.539993   337.539993   \n",
       "max     692.349976   700.989990   686.090027   691.690002   691.690002   \n",
       "\n",
       "             Volume  \n",
       "count  3.119000e+03  \n",
       "mean   1.879939e+07  \n",
       "std    2.091301e+07  \n",
       "min    1.144000e+06  \n",
       "25%    6.233250e+06  \n",
       "50%    1.232560e+07  \n",
       "75%    2.342225e+07  \n",
       "max    3.155418e+08  "
      ]
     },
     "execution_count": 5,
     "metadata": {},
     "output_type": "execute_result"
    }
   ],
   "source": [
    "df.describe()"
   ]
  },
  {
   "cell_type": "code",
   "execution_count": 6,
   "id": "0f0d2813",
   "metadata": {},
   "outputs": [
    {
     "name": "stdout",
     "output_type": "stream",
     "text": [
      "<class 'pandas.core.frame.DataFrame'>\n",
      "RangeIndex: 3119 entries, 0 to 3118\n",
      "Data columns (total 7 columns):\n",
      " #   Column     Non-Null Count  Dtype  \n",
      "---  ------     --------------  -----  \n",
      " 0   Date       3119 non-null   object \n",
      " 1   Open       3119 non-null   float64\n",
      " 2   High       3119 non-null   float64\n",
      " 3   Low        3119 non-null   float64\n",
      " 4   Close      3119 non-null   float64\n",
      " 5   Adj Close  3119 non-null   float64\n",
      " 6   Volume     3119 non-null   int64  \n",
      "dtypes: float64(5), int64(1), object(1)\n",
      "memory usage: 170.7+ KB\n"
     ]
    }
   ],
   "source": [
    "df.info()"
   ]
  },
  {
   "cell_type": "code",
   "execution_count": 7,
   "id": "c293c836",
   "metadata": {},
   "outputs": [
    {
     "data": {
      "text/plain": [
       "Date         3119\n",
       "Open         3119\n",
       "High         3119\n",
       "Low          3119\n",
       "Close        3119\n",
       "Adj Close    3119\n",
       "Volume       3119\n",
       "dtype: int64"
      ]
     },
     "execution_count": 7,
     "metadata": {},
     "output_type": "execute_result"
    }
   ],
   "source": [
    "# check for non-null values\n",
    "df.count()"
   ]
  },
  {
   "cell_type": "code",
   "execution_count": 8,
   "id": "f0a6be08",
   "metadata": {},
   "outputs": [
    {
     "data": {
      "text/plain": [
       "Date         0\n",
       "Open         0\n",
       "High         0\n",
       "Low          0\n",
       "Close        0\n",
       "Adj Close    0\n",
       "Volume       0\n",
       "dtype: int64"
      ]
     },
     "execution_count": 8,
     "metadata": {},
     "output_type": "execute_result"
    }
   ],
   "source": [
    "#checking for the null values\n",
    "df.isnull().sum()"
   ]
  },
  {
   "cell_type": "code",
   "execution_count": 9,
   "id": "34bac5ee",
   "metadata": {},
   "outputs": [],
   "source": [
    "#Check for required columns\n",
    "df = df[['Date','Open','Close']] \n",
    "\n",
    "# converting object dtype of date column to datetime dtype\n",
    "\n",
    "df['Date'] = pd.to_datetime(df['Date'].apply(lambda x: x.split()[0])) \n"
   ]
  },
  {
   "cell_type": "code",
   "execution_count": 10,
   "id": "14e408c2",
   "metadata": {},
   "outputs": [
    {
     "data": {
      "text/html": [
       "<div>\n",
       "<style scoped>\n",
       "    .dataframe tbody tr th:only-of-type {\n",
       "        vertical-align: middle;\n",
       "    }\n",
       "\n",
       "    .dataframe tbody tr th {\n",
       "        vertical-align: top;\n",
       "    }\n",
       "\n",
       "    .dataframe thead th {\n",
       "        text-align: right;\n",
       "    }\n",
       "</style>\n",
       "<table border=\"1\" class=\"dataframe\">\n",
       "  <thead>\n",
       "    <tr style=\"text-align: right;\">\n",
       "      <th></th>\n",
       "      <th>Open</th>\n",
       "      <th>Close</th>\n",
       "    </tr>\n",
       "    <tr>\n",
       "      <th>Date</th>\n",
       "      <th></th>\n",
       "      <th></th>\n",
       "    </tr>\n",
       "  </thead>\n",
       "  <tbody>\n",
       "    <tr>\n",
       "      <th>2010-01-04</th>\n",
       "      <td>7.931429</td>\n",
       "      <td>7.640000</td>\n",
       "    </tr>\n",
       "    <tr>\n",
       "      <th>2010-01-05</th>\n",
       "      <td>7.652857</td>\n",
       "      <td>7.358571</td>\n",
       "    </tr>\n",
       "    <tr>\n",
       "      <th>2010-01-06</th>\n",
       "      <td>7.361429</td>\n",
       "      <td>7.617143</td>\n",
       "    </tr>\n",
       "    <tr>\n",
       "      <th>2010-01-07</th>\n",
       "      <td>7.731429</td>\n",
       "      <td>7.485714</td>\n",
       "    </tr>\n",
       "    <tr>\n",
       "      <th>2010-01-08</th>\n",
       "      <td>7.498571</td>\n",
       "      <td>7.614286</td>\n",
       "    </tr>\n",
       "    <tr>\n",
       "      <th>2010-01-11</th>\n",
       "      <td>7.660000</td>\n",
       "      <td>7.604286</td>\n",
       "    </tr>\n",
       "    <tr>\n",
       "      <th>2010-01-12</th>\n",
       "      <td>7.528571</td>\n",
       "      <td>7.481429</td>\n",
       "    </tr>\n",
       "    <tr>\n",
       "      <th>2010-01-13</th>\n",
       "      <td>7.612857</td>\n",
       "      <td>7.708571</td>\n",
       "    </tr>\n",
       "    <tr>\n",
       "      <th>2010-01-14</th>\n",
       "      <td>7.518571</td>\n",
       "      <td>7.284286</td>\n",
       "    </tr>\n",
       "    <tr>\n",
       "      <th>2010-01-15</th>\n",
       "      <td>7.245714</td>\n",
       "      <td>7.278571</td>\n",
       "    </tr>\n",
       "  </tbody>\n",
       "</table>\n",
       "</div>"
      ],
      "text/plain": [
       "                Open     Close\n",
       "Date                          \n",
       "2010-01-04  7.931429  7.640000\n",
       "2010-01-05  7.652857  7.358571\n",
       "2010-01-06  7.361429  7.617143\n",
       "2010-01-07  7.731429  7.485714\n",
       "2010-01-08  7.498571  7.614286\n",
       "2010-01-11  7.660000  7.604286\n",
       "2010-01-12  7.528571  7.481429\n",
       "2010-01-13  7.612857  7.708571\n",
       "2010-01-14  7.518571  7.284286\n",
       "2010-01-15  7.245714  7.278571"
      ]
     },
     "execution_count": 10,
     "metadata": {},
     "output_type": "execute_result"
    }
   ],
   "source": [
    "df.set_index('Date',drop=True,inplace=True) \n",
    "df.head(10)"
   ]
  },
  {
   "cell_type": "markdown",
   "id": "744389c7",
   "metadata": {},
   "source": [
    "# Visualization of data"
   ]
  },
  {
   "cell_type": "code",
   "execution_count": 11,
   "id": "24a71f7a",
   "metadata": {},
   "outputs": [
    {
     "data": {
      "text/plain": [
       "array([[<Axes: title={'center': 'Open'}>,\n",
       "        <Axes: title={'center': 'Close'}>]], dtype=object)"
      ]
     },
     "execution_count": 11,
     "metadata": {},
     "output_type": "execute_result"
    },
    {
     "data": {
      "image/png": "[encoded data removed]",
      "text/plain": [
       "<Figure size 640x480 with 2 Axes>"
      ]
     },
     "metadata": {},
     "output_type": "display_data"
    }
   ],
   "source": [
    "df.hist()"
   ]
  },
  {
   "cell_type": "code",
   "execution_count": 12,
   "id": "56f6f1b3",
   "metadata": {},
   "outputs": [
    {
     "data": {
      "image/png": "[encoded data removed]",
      "text/plain": [
       "<Figure size 2000x700 with 2 Axes>"
      ]
     },
     "metadata": {},
     "output_type": "display_data"
    }
   ],
   "source": [
    "# plotting open and closing price on date index\n",
    "fig, ax =plt.subplots(1,2,figsize=(20,7))\n",
    "ax[0].plot(df['Open'],label='Open',color='blue')\n",
    "ax[0].set_xlabel('Date',size=15)\n",
    "ax[0].set_ylabel('Price',size=15)\n",
    "ax[0].legend()\n",
    "\n",
    "ax[1].plot(df['Close'],label='Close',color='green')\n",
    "ax[1].set_xlabel('Date',size=15)\n",
    "ax[1].set_ylabel('Price',size=15)\n",
    "ax[1].legend()\n",
    "\n",
    "fig.show()"
   ]
  },
  {
   "cell_type": "markdown",
   "id": "ce24e1d9",
   "metadata": {},
   "source": [
    "# Pre Processing of the Data"
   ]
  },
  {
   "cell_type": "code",
   "execution_count": 13,
   "id": "e41ccca0",
   "metadata": {},
   "outputs": [
    {
     "data": {
      "text/html": [
       "<div>\n",
       "<style scoped>\n",
       "    .dataframe tbody tr th:only-of-type {\n",
       "        vertical-align: middle;\n",
       "    }\n",
       "\n",
       "    .dataframe tbody tr th {\n",
       "        vertical-align: top;\n",
       "    }\n",
       "\n",
       "    .dataframe thead th {\n",
       "        text-align: right;\n",
       "    }\n",
       "</style>\n",
       "<table border=\"1\" class=\"dataframe\">\n",
       "  <thead>\n",
       "    <tr style=\"text-align: right;\">\n",
       "      <th></th>\n",
       "      <th>Open</th>\n",
       "      <th>Close</th>\n",
       "    </tr>\n",
       "    <tr>\n",
       "      <th>Date</th>\n",
       "      <th></th>\n",
       "      <th></th>\n",
       "    </tr>\n",
       "  </thead>\n",
       "  <tbody>\n",
       "    <tr>\n",
       "      <th>2010-01-04</th>\n",
       "      <td>0.001417</td>\n",
       "      <td>0.000908</td>\n",
       "    </tr>\n",
       "    <tr>\n",
       "      <th>2010-01-05</th>\n",
       "      <td>0.001011</td>\n",
       "      <td>0.000497</td>\n",
       "    </tr>\n",
       "    <tr>\n",
       "      <th>2010-01-06</th>\n",
       "      <td>0.000586</td>\n",
       "      <td>0.000874</td>\n",
       "    </tr>\n",
       "    <tr>\n",
       "      <th>2010-01-07</th>\n",
       "      <td>0.001126</td>\n",
       "      <td>0.000682</td>\n",
       "    </tr>\n",
       "    <tr>\n",
       "      <th>2010-01-08</th>\n",
       "      <td>0.000786</td>\n",
       "      <td>0.000870</td>\n",
       "    </tr>\n",
       "    <tr>\n",
       "      <th>2010-01-11</th>\n",
       "      <td>0.001021</td>\n",
       "      <td>0.000855</td>\n",
       "    </tr>\n",
       "    <tr>\n",
       "      <th>2010-01-12</th>\n",
       "      <td>0.000830</td>\n",
       "      <td>0.000676</td>\n",
       "    </tr>\n",
       "    <tr>\n",
       "      <th>2010-01-13</th>\n",
       "      <td>0.000953</td>\n",
       "      <td>0.001008</td>\n",
       "    </tr>\n",
       "    <tr>\n",
       "      <th>2010-01-14</th>\n",
       "      <td>0.000815</td>\n",
       "      <td>0.000388</td>\n",
       "    </tr>\n",
       "    <tr>\n",
       "      <th>2010-01-15</th>\n",
       "      <td>0.000417</td>\n",
       "      <td>0.000380</td>\n",
       "    </tr>\n",
       "  </tbody>\n",
       "</table>\n",
       "</div>"
      ],
      "text/plain": [
       "                Open     Close\n",
       "Date                          \n",
       "2010-01-04  0.001417  0.000908\n",
       "2010-01-05  0.001011  0.000497\n",
       "2010-01-06  0.000586  0.000874\n",
       "2010-01-07  0.001126  0.000682\n",
       "2010-01-08  0.000786  0.000870\n",
       "2010-01-11  0.001021  0.000855\n",
       "2010-01-12  0.000830  0.000676\n",
       "2010-01-13  0.000953  0.001008\n",
       "2010-01-14  0.000815  0.000388\n",
       "2010-01-15  0.000417  0.000380"
      ]
     },
     "execution_count": 13,
     "metadata": {},
     "output_type": "execute_result"
    }
   ],
   "source": [
    "# normalizing all the values of all columns using MinMaxScaler\n",
    "MMS = MinMaxScaler()\n",
    "df[df.columns] = MMS.fit_transform(df)\n",
    "df.head(10)"
   ]
  },
  {
   "cell_type": "code",
   "execution_count": 14,
   "id": "df0ef13f",
   "metadata": {},
   "outputs": [
    {
     "data": {
      "text/html": [
       "<div>\n",
       "<style scoped>\n",
       "    .dataframe tbody tr th:only-of-type {\n",
       "        vertical-align: middle;\n",
       "    }\n",
       "\n",
       "    .dataframe tbody tr th {\n",
       "        vertical-align: top;\n",
       "    }\n",
       "\n",
       "    .dataframe thead th {\n",
       "        text-align: right;\n",
       "    }\n",
       "</style>\n",
       "<table border=\"1\" class=\"dataframe\">\n",
       "  <thead>\n",
       "    <tr style=\"text-align: right;\">\n",
       "      <th></th>\n",
       "      <th>Open</th>\n",
       "      <th>Close</th>\n",
       "    </tr>\n",
       "    <tr>\n",
       "      <th>Date</th>\n",
       "      <th></th>\n",
       "      <th></th>\n",
       "    </tr>\n",
       "  </thead>\n",
       "  <tbody>\n",
       "    <tr>\n",
       "      <th>2022-05-10</th>\n",
       "      <td>0.246648</td>\n",
       "      <td>0.249231</td>\n",
       "    </tr>\n",
       "    <tr>\n",
       "      <th>2022-05-11</th>\n",
       "      <td>0.246765</td>\n",
       "      <td>0.232741</td>\n",
       "    </tr>\n",
       "    <tr>\n",
       "      <th>2022-05-12</th>\n",
       "      <td>0.229067</td>\n",
       "      <td>0.244338</td>\n",
       "    </tr>\n",
       "    <tr>\n",
       "      <th>2022-05-13</th>\n",
       "      <td>0.248326</td>\n",
       "      <td>0.263807</td>\n",
       "    </tr>\n",
       "    <tr>\n",
       "      <th>2022-05-16</th>\n",
       "      <td>0.271874</td>\n",
       "      <td>0.262157</td>\n",
       "    </tr>\n",
       "    <tr>\n",
       "      <th>2022-05-17</th>\n",
       "      <td>0.265849</td>\n",
       "      <td>0.268072</td>\n",
       "    </tr>\n",
       "    <tr>\n",
       "      <th>2022-05-18</th>\n",
       "      <td>0.262274</td>\n",
       "      <td>0.248545</td>\n",
       "    </tr>\n",
       "    <tr>\n",
       "      <th>2022-05-19</th>\n",
       "      <td>0.249624</td>\n",
       "      <td>0.257732</td>\n",
       "    </tr>\n",
       "    <tr>\n",
       "      <th>2022-05-20</th>\n",
       "      <td>0.261034</td>\n",
       "      <td>0.261923</td>\n",
       "    </tr>\n",
       "    <tr>\n",
       "      <th>2022-05-23</th>\n",
       "      <td>0.261442</td>\n",
       "      <td>0.263515</td>\n",
       "    </tr>\n",
       "  </tbody>\n",
       "</table>\n",
       "</div>"
      ],
      "text/plain": [
       "                Open     Close\n",
       "Date                          \n",
       "2022-05-10  0.246648  0.249231\n",
       "2022-05-11  0.246765  0.232741\n",
       "2022-05-12  0.229067  0.244338\n",
       "2022-05-13  0.248326  0.263807\n",
       "2022-05-16  0.271874  0.262157\n",
       "2022-05-17  0.265849  0.268072\n",
       "2022-05-18  0.262274  0.248545\n",
       "2022-05-19  0.249624  0.257732\n",
       "2022-05-20  0.261034  0.261923\n",
       "2022-05-23  0.261442  0.263515"
      ]
     },
     "execution_count": 14,
     "metadata": {},
     "output_type": "execute_result"
    }
   ],
   "source": [
    "df.tail(10)"
   ]
  },
  {
   "cell_type": "code",
   "execution_count": 15,
   "id": "54cda0a0",
   "metadata": {},
   "outputs": [],
   "source": [
    "# splitting the data into train and test set\n",
    "# Select 75 % for train and 25 % for test\n",
    "training_size = round(len(df) * 0.75) "
   ]
  },
  {
   "cell_type": "code",
   "execution_count": 16,
   "id": "6e4b6e1d",
   "metadata": {},
   "outputs": [
    {
     "data": {
      "text/plain": [
       "2339"
      ]
     },
     "execution_count": 16,
     "metadata": {},
     "output_type": "execute_result"
    }
   ],
   "source": [
    "training_size"
   ]
  },
  {
   "cell_type": "code",
   "execution_count": 17,
   "id": "b230327b",
   "metadata": {},
   "outputs": [
    {
     "data": {
      "text/plain": [
       "((2339, 2), (780, 2))"
      ]
     },
     "execution_count": 17,
     "metadata": {},
     "output_type": "execute_result"
    }
   ],
   "source": [
    "train_data = df[:training_size]\n",
    "test_data  = df[training_size:]\n",
    "\n",
    "train_data.shape, test_data.shape"
   ]
  },
  {
   "cell_type": "code",
   "execution_count": 18,
   "id": "ff1fc62a",
   "metadata": {},
   "outputs": [],
   "source": [
    "# Function to create sequence of data for training and testing\n",
    "\n",
    "def create_sequence(dataset):\n",
    "  sequences = []\n",
    "  labels = []\n",
    "\n",
    "  start_idx = 0\n",
    "\n",
    "  for stop_idx in range(50,len(dataset)): # Selecting 50 rows at a time\n",
    "    sequences.append(dataset.iloc[start_idx:stop_idx])\n",
    "    labels.append(dataset.iloc[stop_idx])\n",
    "    start_idx += 1\n",
    "  return (np.array(sequences),np.array(labels))"
   ]
  },
  {
   "cell_type": "code",
   "execution_count": 19,
   "id": "44be1512",
   "metadata": {},
   "outputs": [
    {
     "data": {
      "text/plain": [
       "((2289, 50, 2), (2289, 2), (730, 50, 2), (730, 2))"
      ]
     },
     "execution_count": 19,
     "metadata": {},
     "output_type": "execute_result"
    }
   ],
   "source": [
    "train_seq, train_label = create_sequence(train_data) \n",
    "test_seq, test_label = create_sequence(test_data)\n",
    "train_seq.shape, train_label.shape, test_seq.shape, test_label.shape"
   ]
  },
  {
   "cell_type": "markdown",
   "id": "6ba359f5",
   "metadata": {},
   "source": [
    "# CREATING LSTM MODEL"
   ]
  },
  {
   "cell_type": "code",
   "execution_count": 20,
   "id": "67b79221",
   "metadata": {},
   "outputs": [
    {
     "name": "stdout",
     "output_type": "stream",
     "text": [
      "Model: \"sequential\"\n",
      "_________________________________________________________________\n",
      " Layer (type)                Output Shape              Param #   \n",
      "=================================================================\n",
      " lstm (LSTM)                 (None, 50, 25)            2800      \n",
      "                                                                 \n",
      " dropout (Dropout)           (None, 50, 25)            0         \n",
      "                                                                 \n",
      " lstm_1 (LSTM)               (None, 25)                5100      \n",
      "                                                                 \n",
      " dense (Dense)               (None, 2)                 52        \n",
      "                                                                 \n",
      "=================================================================\n",
      "Total params: 7952 (31.06 KB)\n",
      "Trainable params: 7952 (31.06 KB)\n",
      "Non-trainable params: 0 (0.00 Byte)\n",
      "_________________________________________________________________\n"
     ]
    }
   ],
   "source": [
    "# imported Sequential from keras.models \n",
    "model = Sequential()\n",
    "# importing Dense, Dropout, LSTM, Bidirectional from keras.layers \n",
    "model.add(LSTM(units=25, return_sequences=True, input_shape = (train_seq.shape[1], train_seq.shape[2])))\n",
    "\n",
    "model.add(Dropout(0.1)) \n",
    "model.add(LSTM(units=25))\n",
    "\n",
    "model.add(Dense(2))\n",
    "\n",
    "model.compile(loss='mean_squared_error', optimizer='adam', metrics=['mean_absolute_error'])\n",
    "\n",
    "model.summary()"
   ]
  },
  {
   "cell_type": "code",
   "execution_count": 21,
   "id": "e47e0dc6",
   "metadata": {},
   "outputs": [
    {
     "name": "stdout",
     "output_type": "stream",
     "text": [
      "Epoch 1/100\n",
      "72/72 [==============================] - 19s 67ms/step - loss: 7.5445e-04 - mean_absolute_error: 0.0162 - val_loss: 0.0034 - val_mean_absolute_error: 0.0432\n",
      "Epoch 2/100\n",
      "72/72 [==============================] - 6s 78ms/step - loss: 2.4146e-04 - mean_absolute_error: 0.0092 - val_loss: 0.0063 - val_mean_absolute_error: 0.0637\n",
      "Epoch 3/100\n",
      "72/72 [==============================] - 5s 72ms/step - loss: 2.2661e-04 - mean_absolute_error: 0.0091 - val_loss: 0.0037 - val_mean_absolute_error: 0.0476\n",
      "Epoch 4/100\n",
      "72/72 [==============================] - 3s 48ms/step - loss: 2.3728e-04 - mean_absolute_error: 0.0092 - val_loss: 0.0046 - val_mean_absolute_error: 0.0536\n",
      "Epoch 5/100\n",
      "72/72 [==============================] - 4s 59ms/step - loss: 1.9056e-04 - mean_absolute_error: 0.0082 - val_loss: 0.0027 - val_mean_absolute_error: 0.0382\n",
      "Epoch 6/100\n",
      "72/72 [==============================] - 5s 75ms/step - loss: 2.1224e-04 - mean_absolute_error: 0.0085 - val_loss: 0.0035 - val_mean_absolute_error: 0.0457\n",
      "Epoch 7/100\n",
      "72/72 [==============================] - 4s 56ms/step - loss: 1.8089e-04 - mean_absolute_error: 0.0078 - val_loss: 0.0049 - val_mean_absolute_error: 0.0567\n",
      "Epoch 8/100\n",
      "72/72 [==============================] - 4s 52ms/step - loss: 1.9939e-04 - mean_absolute_error: 0.0088 - val_loss: 0.0033 - val_mean_absolute_error: 0.0443\n",
      "Epoch 9/100\n",
      "72/72 [==============================] - 5s 70ms/step - loss: 1.7396e-04 - mean_absolute_error: 0.0080 - val_loss: 0.0038 - val_mean_absolute_error: 0.0484\n",
      "Epoch 10/100\n",
      "72/72 [==============================] - 5s 71ms/step - loss: 1.6787e-04 - mean_absolute_error: 0.0077 - val_loss: 0.0032 - val_mean_absolute_error: 0.0430\n",
      "Epoch 11/100\n",
      "72/72 [==============================] - 3s 47ms/step - loss: 1.5615e-04 - mean_absolute_error: 0.0073 - val_loss: 0.0024 - val_mean_absolute_error: 0.0362\n",
      "Epoch 12/100\n",
      "72/72 [==============================] - 3s 49ms/step - loss: 1.6818e-04 - mean_absolute_error: 0.0077 - val_loss: 0.0023 - val_mean_absolute_error: 0.0353\n",
      "Epoch 13/100\n",
      "72/72 [==============================] - 5s 76ms/step - loss: 1.6014e-04 - mean_absolute_error: 0.0076 - val_loss: 0.0033 - val_mean_absolute_error: 0.0439\n",
      "Epoch 14/100\n",
      "72/72 [==============================] - 5s 66ms/step - loss: 1.5462e-04 - mean_absolute_error: 0.0071 - val_loss: 0.0034 - val_mean_absolute_error: 0.0448\n",
      "Epoch 15/100\n",
      "72/72 [==============================] - 4s 51ms/step - loss: 1.4945e-04 - mean_absolute_error: 0.0072 - val_loss: 0.0042 - val_mean_absolute_error: 0.0503\n",
      "Epoch 16/100\n",
      "72/72 [==============================] - 4s 58ms/step - loss: 1.5342e-04 - mean_absolute_error: 0.0076 - val_loss: 0.0033 - val_mean_absolute_error: 0.0444\n",
      "Epoch 17/100\n",
      "72/72 [==============================] - 5s 76ms/step - loss: 1.3133e-04 - mean_absolute_error: 0.0066 - val_loss: 0.0028 - val_mean_absolute_error: 0.0406\n",
      "Epoch 18/100\n",
      "72/72 [==============================] - 4s 57ms/step - loss: 1.4100e-04 - mean_absolute_error: 0.0069 - val_loss: 0.0030 - val_mean_absolute_error: 0.0420\n",
      "Epoch 19/100\n",
      "72/72 [==============================] - 3s 47ms/step - loss: 1.3357e-04 - mean_absolute_error: 0.0067 - val_loss: 0.0038 - val_mean_absolute_error: 0.0479\n",
      "Epoch 20/100\n",
      "72/72 [==============================] - 5s 72ms/step - loss: 1.4241e-04 - mean_absolute_error: 0.0072 - val_loss: 0.0038 - val_mean_absolute_error: 0.0481\n",
      "Epoch 21/100\n",
      "72/72 [==============================] - 5s 73ms/step - loss: 1.3865e-04 - mean_absolute_error: 0.0070 - val_loss: 0.0028 - val_mean_absolute_error: 0.0407\n",
      "Epoch 22/100\n",
      "72/72 [==============================] - 3s 43ms/step - loss: 1.3225e-04 - mean_absolute_error: 0.0069 - val_loss: 0.0023 - val_mean_absolute_error: 0.0362\n",
      "Epoch 23/100\n",
      "72/72 [==============================] - 4s 53ms/step - loss: 1.5017e-04 - mean_absolute_error: 0.0078 - val_loss: 0.0037 - val_mean_absolute_error: 0.0467\n",
      "Epoch 24/100\n",
      "72/72 [==============================] - 5s 76ms/step - loss: 1.1814e-04 - mean_absolute_error: 0.0064 - val_loss: 0.0038 - val_mean_absolute_error: 0.0475\n",
      "Epoch 25/100\n",
      "72/72 [==============================] - 5s 64ms/step - loss: 1.2937e-04 - mean_absolute_error: 0.0069 - val_loss: 0.0022 - val_mean_absolute_error: 0.0355\n",
      "Epoch 26/100\n",
      "72/72 [==============================] - 4s 49ms/step - loss: 1.2906e-04 - mean_absolute_error: 0.0073 - val_loss: 0.0039 - val_mean_absolute_error: 0.0481\n",
      "Epoch 27/100\n",
      "72/72 [==============================] - 4s 62ms/step - loss: 1.1034e-04 - mean_absolute_error: 0.0063 - val_loss: 0.0049 - val_mean_absolute_error: 0.0551\n",
      "Epoch 28/100\n",
      "72/72 [==============================] - 5s 76ms/step - loss: 1.2236e-04 - mean_absolute_error: 0.0069 - val_loss: 0.0017 - val_mean_absolute_error: 0.0311\n",
      "Epoch 29/100\n",
      "72/72 [==============================] - 4s 53ms/step - loss: 1.2070e-04 - mean_absolute_error: 0.0066 - val_loss: 0.0050 - val_mean_absolute_error: 0.0568\n",
      "Epoch 30/100\n",
      "72/72 [==============================] - 4s 49ms/step - loss: 1.0767e-04 - mean_absolute_error: 0.0065 - val_loss: 0.0044 - val_mean_absolute_error: 0.0518\n",
      "Epoch 31/100\n",
      "72/72 [==============================] - 5s 75ms/step - loss: 1.1709e-04 - mean_absolute_error: 0.0067 - val_loss: 0.0029 - val_mean_absolute_error: 0.0412\n",
      "Epoch 32/100\n",
      "72/72 [==============================] - 5s 71ms/step - loss: 1.1233e-04 - mean_absolute_error: 0.0066 - val_loss: 0.0033 - val_mean_absolute_error: 0.0437\n",
      "Epoch 33/100\n",
      "72/72 [==============================] - 3s 46ms/step - loss: 1.0294e-04 - mean_absolute_error: 0.0060 - val_loss: 0.0032 - val_mean_absolute_error: 0.0430\n",
      "Epoch 34/100\n",
      "72/72 [==============================] - 4s 55ms/step - loss: 9.0279e-05 - mean_absolute_error: 0.0057 - val_loss: 0.0036 - val_mean_absolute_error: 0.0463\n",
      "Epoch 35/100\n",
      "72/72 [==============================] - 5s 76ms/step - loss: 1.1701e-04 - mean_absolute_error: 0.0066 - val_loss: 0.0034 - val_mean_absolute_error: 0.0447\n",
      "Epoch 36/100\n",
      "72/72 [==============================] - 4s 57ms/step - loss: 8.9749e-05 - mean_absolute_error: 0.0057 - val_loss: 0.0042 - val_mean_absolute_error: 0.0512\n",
      "Epoch 37/100\n",
      "72/72 [==============================] - 3s 45ms/step - loss: 1.0209e-04 - mean_absolute_error: 0.0064 - val_loss: 0.0021 - val_mean_absolute_error: 0.0346\n",
      "Epoch 38/100\n",
      "72/72 [==============================] - 4s 62ms/step - loss: 9.2579e-05 - mean_absolute_error: 0.0057 - val_loss: 0.0037 - val_mean_absolute_error: 0.0477\n",
      "Epoch 39/100\n",
      "72/72 [==============================] - 5s 76ms/step - loss: 1.1502e-04 - mean_absolute_error: 0.0066 - val_loss: 0.0026 - val_mean_absolute_error: 0.0388\n",
      "Epoch 40/100\n",
      "72/72 [==============================] - 3s 47ms/step - loss: 9.3535e-05 - mean_absolute_error: 0.0059 - val_loss: 0.0018 - val_mean_absolute_error: 0.0320\n",
      "Epoch 41/100\n",
      "72/72 [==============================] - 3s 43ms/step - loss: 9.3401e-05 - mean_absolute_error: 0.0057 - val_loss: 0.0030 - val_mean_absolute_error: 0.0419\n",
      "Epoch 42/100\n",
      "72/72 [==============================] - 5s 66ms/step - loss: 8.9458e-05 - mean_absolute_error: 0.0057 - val_loss: 0.0028 - val_mean_absolute_error: 0.0404\n",
      "Epoch 43/100\n",
      "72/72 [==============================] - 5s 72ms/step - loss: 8.4933e-05 - mean_absolute_error: 0.0056 - val_loss: 0.0021 - val_mean_absolute_error: 0.0344\n",
      "Epoch 44/100\n",
      "72/72 [==============================] - 3s 47ms/step - loss: 8.1573e-05 - mean_absolute_error: 0.0055 - val_loss: 0.0035 - val_mean_absolute_error: 0.0457\n",
      "Epoch 45/100\n",
      "72/72 [==============================] - 3s 44ms/step - loss: 8.4193e-05 - mean_absolute_error: 0.0057 - val_loss: 0.0026 - val_mean_absolute_error: 0.0390\n",
      "Epoch 46/100\n",
      "72/72 [==============================] - 5s 71ms/step - loss: 7.9018e-05 - mean_absolute_error: 0.0055 - val_loss: 0.0033 - val_mean_absolute_error: 0.0446\n",
      "Epoch 47/100\n",
      "72/72 [==============================] - 5s 72ms/step - loss: 8.2523e-05 - mean_absolute_error: 0.0058 - val_loss: 0.0028 - val_mean_absolute_error: 0.0408\n",
      "Epoch 48/100\n",
      "72/72 [==============================] - 3s 41ms/step - loss: 8.4378e-05 - mean_absolute_error: 0.0055 - val_loss: 0.0022 - val_mean_absolute_error: 0.0351\n",
      "Epoch 49/100\n"
     ]
    },
    {
     "name": "stdout",
     "output_type": "stream",
     "text": [
      "72/72 [==============================] - 3s 48ms/step - loss: 8.6004e-05 - mean_absolute_error: 0.0057 - val_loss: 0.0025 - val_mean_absolute_error: 0.0383\n",
      "Epoch 50/100\n",
      "72/72 [==============================] - 5s 71ms/step - loss: 8.0183e-05 - mean_absolute_error: 0.0057 - val_loss: 0.0023 - val_mean_absolute_error: 0.0367\n",
      "Epoch 51/100\n",
      "72/72 [==============================] - 5s 69ms/step - loss: 8.4641e-05 - mean_absolute_error: 0.0057 - val_loss: 0.0015 - val_mean_absolute_error: 0.0295\n",
      "Epoch 52/100\n",
      "72/72 [==============================] - 3s 43ms/step - loss: 7.9989e-05 - mean_absolute_error: 0.0055 - val_loss: 0.0019 - val_mean_absolute_error: 0.0329\n",
      "Epoch 53/100\n",
      "72/72 [==============================] - 4s 54ms/step - loss: 8.8164e-05 - mean_absolute_error: 0.0058 - val_loss: 0.0026 - val_mean_absolute_error: 0.0394\n",
      "Epoch 54/100\n",
      "72/72 [==============================] - 5s 73ms/step - loss: 8.9211e-05 - mean_absolute_error: 0.0064 - val_loss: 0.0027 - val_mean_absolute_error: 0.0402\n",
      "Epoch 55/100\n",
      "72/72 [==============================] - 4s 61ms/step - loss: 7.8073e-05 - mean_absolute_error: 0.0055 - val_loss: 0.0020 - val_mean_absolute_error: 0.0340\n",
      "Epoch 56/100\n",
      "72/72 [==============================] - 3s 46ms/step - loss: 7.6990e-05 - mean_absolute_error: 0.0054 - val_loss: 0.0020 - val_mean_absolute_error: 0.0341\n",
      "Epoch 57/100\n",
      "72/72 [==============================] - 4s 61ms/step - loss: 7.4563e-05 - mean_absolute_error: 0.0053 - val_loss: 0.0015 - val_mean_absolute_error: 0.0291\n",
      "Epoch 58/100\n",
      "72/72 [==============================] - 5s 76ms/step - loss: 7.6197e-05 - mean_absolute_error: 0.0054 - val_loss: 0.0031 - val_mean_absolute_error: 0.0431\n",
      "Epoch 59/100\n",
      "72/72 [==============================] - 4s 58ms/step - loss: 7.0996e-05 - mean_absolute_error: 0.0052 - val_loss: 0.0018 - val_mean_absolute_error: 0.0322\n",
      "Epoch 60/100\n",
      "72/72 [==============================] - 4s 50ms/step - loss: 7.5192e-05 - mean_absolute_error: 0.0055 - val_loss: 0.0027 - val_mean_absolute_error: 0.0413\n",
      "Epoch 61/100\n",
      "72/72 [==============================] - 5s 74ms/step - loss: 7.5947e-05 - mean_absolute_error: 0.0055 - val_loss: 0.0024 - val_mean_absolute_error: 0.0387\n",
      "Epoch 62/100\n",
      "72/72 [==============================] - 5s 70ms/step - loss: 6.5143e-05 - mean_absolute_error: 0.0049 - val_loss: 0.0018 - val_mean_absolute_error: 0.0326\n",
      "Epoch 63/100\n",
      "72/72 [==============================] - 3s 48ms/step - loss: 7.6908e-05 - mean_absolute_error: 0.0055 - val_loss: 0.0019 - val_mean_absolute_error: 0.0330\n",
      "Epoch 64/100\n",
      "72/72 [==============================] - 4s 51ms/step - loss: 6.6634e-05 - mean_absolute_error: 0.0051 - val_loss: 0.0028 - val_mean_absolute_error: 0.0423\n",
      "Epoch 65/100\n",
      "72/72 [==============================] - 6s 77ms/step - loss: 6.2450e-05 - mean_absolute_error: 0.0049 - val_loss: 0.0021 - val_mean_absolute_error: 0.0362\n",
      "Epoch 66/100\n",
      "72/72 [==============================] - 4s 61ms/step - loss: 7.1386e-05 - mean_absolute_error: 0.0053 - val_loss: 0.0015 - val_mean_absolute_error: 0.0297\n",
      "Epoch 67/100\n",
      "72/72 [==============================] - 4s 50ms/step - loss: 6.3319e-05 - mean_absolute_error: 0.0050 - val_loss: 0.0016 - val_mean_absolute_error: 0.0314\n",
      "Epoch 68/100\n",
      "72/72 [==============================] - 5s 63ms/step - loss: 7.0099e-05 - mean_absolute_error: 0.0053 - val_loss: 0.0011 - val_mean_absolute_error: 0.0249\n",
      "Epoch 69/100\n",
      "72/72 [==============================] - 5s 76ms/step - loss: 6.6887e-05 - mean_absolute_error: 0.0051 - val_loss: 8.3484e-04 - val_mean_absolute_error: 0.0216\n",
      "Epoch 70/100\n",
      "72/72 [==============================] - 3s 48ms/step - loss: 6.2091e-05 - mean_absolute_error: 0.0051 - val_loss: 0.0013 - val_mean_absolute_error: 0.0273\n",
      "Epoch 71/100\n",
      "72/72 [==============================] - 3s 48ms/step - loss: 6.3163e-05 - mean_absolute_error: 0.0051 - val_loss: 7.9458e-04 - val_mean_absolute_error: 0.0208\n",
      "Epoch 72/100\n",
      "72/72 [==============================] - 5s 76ms/step - loss: 5.7589e-05 - mean_absolute_error: 0.0048 - val_loss: 7.8875e-04 - val_mean_absolute_error: 0.0206\n",
      "Epoch 73/100\n",
      "72/72 [==============================] - 5s 70ms/step - loss: 6.0411e-05 - mean_absolute_error: 0.0048 - val_loss: 7.8056e-04 - val_mean_absolute_error: 0.0206\n",
      "Epoch 74/100\n",
      "72/72 [==============================] - 3s 46ms/step - loss: 7.2152e-05 - mean_absolute_error: 0.0053 - val_loss: 0.0012 - val_mean_absolute_error: 0.0265\n",
      "Epoch 75/100\n",
      "72/72 [==============================] - 4s 56ms/step - loss: 6.0672e-05 - mean_absolute_error: 0.0048 - val_loss: 0.0015 - val_mean_absolute_error: 0.0298\n",
      "Epoch 76/100\n",
      "72/72 [==============================] - 5s 76ms/step - loss: 6.3496e-05 - mean_absolute_error: 0.0050 - val_loss: 0.0018 - val_mean_absolute_error: 0.0349\n",
      "Epoch 77/100\n",
      "72/72 [==============================] - 4s 58ms/step - loss: 6.1729e-05 - mean_absolute_error: 0.0049 - val_loss: 0.0018 - val_mean_absolute_error: 0.0345\n",
      "Epoch 78/100\n",
      "72/72 [==============================] - 3s 47ms/step - loss: 7.0180e-05 - mean_absolute_error: 0.0050 - val_loss: 0.0015 - val_mean_absolute_error: 0.0307\n",
      "Epoch 79/100\n",
      "72/72 [==============================] - 5s 66ms/step - loss: 6.9426e-05 - mean_absolute_error: 0.0052 - val_loss: 0.0011 - val_mean_absolute_error: 0.0248\n",
      "Epoch 80/100\n",
      "72/72 [==============================] - 5s 72ms/step - loss: 7.0621e-05 - mean_absolute_error: 0.0055 - val_loss: 7.5209e-04 - val_mean_absolute_error: 0.0203\n",
      "Epoch 81/100\n",
      "72/72 [==============================] - 4s 51ms/step - loss: 6.0615e-05 - mean_absolute_error: 0.0051 - val_loss: 0.0011 - val_mean_absolute_error: 0.0252\n",
      "Epoch 82/100\n",
      "72/72 [==============================] - 3s 45ms/step - loss: 5.5978e-05 - mean_absolute_error: 0.0048 - val_loss: 9.0308e-04 - val_mean_absolute_error: 0.0226\n",
      "Epoch 83/100\n",
      "72/72 [==============================] - 5s 74ms/step - loss: 5.7741e-05 - mean_absolute_error: 0.0048 - val_loss: 0.0018 - val_mean_absolute_error: 0.0350\n",
      "Epoch 84/100\n",
      "72/72 [==============================] - 5s 72ms/step - loss: 6.3006e-05 - mean_absolute_error: 0.0050 - val_loss: 8.9433e-04 - val_mean_absolute_error: 0.0229\n",
      "Epoch 85/100\n",
      "72/72 [==============================] - 3s 44ms/step - loss: 5.9216e-05 - mean_absolute_error: 0.0048 - val_loss: 0.0010 - val_mean_absolute_error: 0.0246\n",
      "Epoch 86/100\n",
      "72/72 [==============================] - 4s 52ms/step - loss: 5.8870e-05 - mean_absolute_error: 0.0049 - val_loss: 9.0714e-04 - val_mean_absolute_error: 0.0229\n",
      "Epoch 87/100\n",
      "72/72 [==============================] - 5s 76ms/step - loss: 5.6624e-05 - mean_absolute_error: 0.0048 - val_loss: 0.0012 - val_mean_absolute_error: 0.0269\n",
      "Epoch 88/100\n",
      "72/72 [==============================] - 4s 62ms/step - loss: 5.1635e-05 - mean_absolute_error: 0.0046 - val_loss: 5.0727e-04 - val_mean_absolute_error: 0.0162\n",
      "Epoch 89/100\n",
      "72/72 [==============================] - 4s 50ms/step - loss: 6.2305e-05 - mean_absolute_error: 0.0050 - val_loss: 8.0486e-04 - val_mean_absolute_error: 0.0215\n",
      "Epoch 90/100\n",
      "72/72 [==============================] - 4s 58ms/step - loss: 5.4074e-05 - mean_absolute_error: 0.0045 - val_loss: 0.0016 - val_mean_absolute_error: 0.0329\n",
      "Epoch 91/100\n",
      "72/72 [==============================] - 5s 75ms/step - loss: 6.1143e-05 - mean_absolute_error: 0.0051 - val_loss: 7.7320e-04 - val_mean_absolute_error: 0.0217\n",
      "Epoch 92/100\n",
      "72/72 [==============================] - 4s 53ms/step - loss: 5.5130e-05 - mean_absolute_error: 0.0049 - val_loss: 4.1410e-04 - val_mean_absolute_error: 0.0140\n",
      "Epoch 93/100\n",
      "72/72 [==============================] - 3s 47ms/step - loss: 5.0585e-05 - mean_absolute_error: 0.0045 - val_loss: 9.4746e-04 - val_mean_absolute_error: 0.0250\n",
      "Epoch 94/100\n",
      "72/72 [==============================] - 4s 62ms/step - loss: 5.8695e-05 - mean_absolute_error: 0.0049 - val_loss: 9.2731e-04 - val_mean_absolute_error: 0.0239\n",
      "Epoch 95/100\n",
      "72/72 [==============================] - 5s 75ms/step - loss: 5.7354e-05 - mean_absolute_error: 0.0048 - val_loss: 0.0013 - val_mean_absolute_error: 0.0289\n",
      "Epoch 96/100\n",
      "72/72 [==============================] - 4s 49ms/step - loss: 6.9555e-05 - mean_absolute_error: 0.0054 - val_loss: 6.1984e-04 - val_mean_absolute_error: 0.0191\n",
      "Epoch 97/100\n"
     ]
    },
    {
     "name": "stdout",
     "output_type": "stream",
     "text": [
      "72/72 [==============================] - 3s 46ms/step - loss: 5.0126e-05 - mean_absolute_error: 0.0047 - val_loss: 4.5945e-04 - val_mean_absolute_error: 0.0152\n",
      "Epoch 98/100\n",
      "72/72 [==============================] - 5s 76ms/step - loss: 5.1900e-05 - mean_absolute_error: 0.0045 - val_loss: 0.0016 - val_mean_absolute_error: 0.0321\n",
      "Epoch 99/100\n",
      "72/72 [==============================] - 5s 70ms/step - loss: 5.3929e-05 - mean_absolute_error: 0.0047 - val_loss: 4.6758e-04 - val_mean_absolute_error: 0.0149\n",
      "Epoch 100/100\n",
      "72/72 [==============================] - 4s 49ms/step - loss: 4.4895e-05 - mean_absolute_error: 0.0042 - val_loss: 5.0421e-04 - val_mean_absolute_error: 0.0165\n"
     ]
    },
    {
     "data": {
      "text/plain": [
       "<keras.src.callbacks.History at 0x16fc4b44410>"
      ]
     },
     "execution_count": 21,
     "metadata": {},
     "output_type": "execute_result"
    }
   ],
   "source": [
    "# fitting the model by iterating the dataset over 100 times(100 epochs)\n",
    "model.fit(train_seq, train_label, epochs=100,validation_data=(test_seq, test_label), verbose=1)"
   ]
  },
  {
   "cell_type": "code",
   "execution_count": 22,
   "id": "54146680",
   "metadata": {},
   "outputs": [
    {
     "name": "stdout",
     "output_type": "stream",
     "text": [
      "23/23 [==============================] - 1s 15ms/step\n"
     ]
    },
    {
     "data": {
      "text/plain": [
       "array([[0.5422326 , 0.54202294],\n",
       "       [0.544687  , 0.54462004],\n",
       "       [0.5511793 , 0.55101633],\n",
       "       [0.55065274, 0.55059034],\n",
       "       [0.5446923 , 0.544743  ]], dtype=float32)"
      ]
     },
     "execution_count": 22,
     "metadata": {},
     "output_type": "execute_result"
    }
   ],
   "source": [
    "# predicting the values after running the model\n",
    "test_predicted = model.predict(test_seq)\n",
    "test_predicted[:5]"
   ]
  },
  {
   "cell_type": "code",
   "execution_count": 23,
   "id": "b9d1378d",
   "metadata": {},
   "outputs": [
    {
     "data": {
      "text/plain": [
       "array([[378.60077, 378.1262 ],\n",
       "       [380.283  , 379.90433],\n",
       "       [384.73276, 384.2837 ],\n",
       "       [384.37186, 383.99203],\n",
       "       [380.28662, 379.98853]], dtype=float32)"
      ]
     },
     "execution_count": 23,
     "metadata": {},
     "output_type": "execute_result"
    }
   ],
   "source": [
    "# Inversing normalization/scaling on predicted data \n",
    "test_inverse_predicted = MMS.inverse_transform(test_predicted)\n",
    "test_inverse_predicted[:5]"
   ]
  },
  {
   "cell_type": "markdown",
   "id": "4474fcb6",
   "metadata": {},
   "source": [
    "# VISUALIZING ACTUAL DATA VS PREDICTED DATA"
   ]
  },
  {
   "cell_type": "code",
   "execution_count": 25,
   "id": "622f790f",
   "metadata": {},
   "outputs": [],
   "source": [
    "# Merging actual and predicted data for better visualization\n",
    "df1 = pd.concat([df.iloc[-730:].copy(),\n",
    "                          pd.DataFrame(test_inverse_predicted,columns=['open_predicted','close_predicted'],\n",
    "                                       index=df.iloc[-730:].index)], axis=1)"
   ]
  },
  {
   "cell_type": "code",
   "execution_count": 26,
   "id": "68d46ab1",
   "metadata": {},
   "outputs": [
    {
     "data": {
      "text/html": [
       "<div>\n",
       "<style scoped>\n",
       "    .dataframe tbody tr th:only-of-type {\n",
       "        vertical-align: middle;\n",
       "    }\n",
       "\n",
       "    .dataframe tbody tr th {\n",
       "        vertical-align: top;\n",
       "    }\n",
       "\n",
       "    .dataframe thead th {\n",
       "        text-align: right;\n",
       "    }\n",
       "</style>\n",
       "<table border=\"1\" class=\"dataframe\">\n",
       "  <thead>\n",
       "    <tr style=\"text-align: right;\">\n",
       "      <th></th>\n",
       "      <th>Open</th>\n",
       "      <th>Close</th>\n",
       "      <th>open_predicted</th>\n",
       "      <th>close_predicted</th>\n",
       "    </tr>\n",
       "    <tr>\n",
       "      <th>Date</th>\n",
       "      <th></th>\n",
       "      <th></th>\n",
       "      <th></th>\n",
       "      <th></th>\n",
       "    </tr>\n",
       "  </thead>\n",
       "  <tbody>\n",
       "    <tr>\n",
       "      <th>2019-07-02</th>\n",
       "      <td>374.890015</td>\n",
       "      <td>375.429993</td>\n",
       "      <td>378.600769</td>\n",
       "      <td>378.126190</td>\n",
       "    </tr>\n",
       "    <tr>\n",
       "      <th>2019-07-03</th>\n",
       "      <td>376.690002</td>\n",
       "      <td>381.720001</td>\n",
       "      <td>380.282990</td>\n",
       "      <td>379.904327</td>\n",
       "    </tr>\n",
       "    <tr>\n",
       "      <th>2019-07-05</th>\n",
       "      <td>378.290009</td>\n",
       "      <td>380.549988</td>\n",
       "      <td>384.732758</td>\n",
       "      <td>384.283691</td>\n",
       "    </tr>\n",
       "    <tr>\n",
       "      <th>2019-07-08</th>\n",
       "      <td>378.190002</td>\n",
       "      <td>376.160004</td>\n",
       "      <td>384.371857</td>\n",
       "      <td>383.992035</td>\n",
       "    </tr>\n",
       "    <tr>\n",
       "      <th>2019-07-09</th>\n",
       "      <td>379.059998</td>\n",
       "      <td>379.929993</td>\n",
       "      <td>380.286621</td>\n",
       "      <td>379.988525</td>\n",
       "    </tr>\n",
       "  </tbody>\n",
       "</table>\n",
       "</div>"
      ],
      "text/plain": [
       "                  Open       Close  open_predicted  close_predicted\n",
       "Date                                                               \n",
       "2019-07-02  374.890015  375.429993      378.600769       378.126190\n",
       "2019-07-03  376.690002  381.720001      380.282990       379.904327\n",
       "2019-07-05  378.290009  380.549988      384.732758       384.283691\n",
       "2019-07-08  378.190002  376.160004      384.371857       383.992035\n",
       "2019-07-09  379.059998  379.929993      380.286621       379.988525"
      ]
     },
     "execution_count": 26,
     "metadata": {},
     "output_type": "execute_result"
    }
   ],
   "source": [
    "# Inversing normalization/scaling \n",
    "df1[['Open','Close']] = MMS.inverse_transform(df1[['Open','Close']])\n",
    "df1.head()"
   ]
  },
  {
   "cell_type": "code",
   "execution_count": 27,
   "id": "6bcd0fa6",
   "metadata": {},
   "outputs": [
    {
     "data": {
      "image/png": "[encoded data removed]",
      "text/plain": [
       "<Figure size 1000x600 with 1 Axes>"
      ]
     },
     "metadata": {},
     "output_type": "display_data"
    }
   ],
   "source": [
    "# plotting the actual open and predicted open prices on date index\n",
    "df1[['Open','open_predicted']].plot(figsize=(10,6))\n",
    "plt.xticks(rotation=45)\n",
    "plt.xlabel('Date',size=15)\n",
    "plt.ylabel('Stock Price',size=15)\n",
    "plt.title('Actual vs Predicted for open price',size=15)\n",
    "plt.show()"
   ]
  },
  {
   "cell_type": "markdown",
   "id": "80747b67",
   "metadata": {},
   "source": [
    "# Predicting forthcoming prediction"
   ]
  },
  {
   "cell_type": "code",
   "execution_count": 28,
   "id": "a67b4e47",
   "metadata": {},
   "outputs": [
    {
     "data": {
      "text/html": [
       "<div>\n",
       "<style scoped>\n",
       "    .dataframe tbody tr th:only-of-type {\n",
       "        vertical-align: middle;\n",
       "    }\n",
       "\n",
       "    .dataframe tbody tr th {\n",
       "        vertical-align: top;\n",
       "    }\n",
       "\n",
       "    .dataframe thead th {\n",
       "        text-align: right;\n",
       "    }\n",
       "</style>\n",
       "<table border=\"1\" class=\"dataframe\">\n",
       "  <thead>\n",
       "    <tr style=\"text-align: right;\">\n",
       "      <th></th>\n",
       "      <th>Open</th>\n",
       "      <th>Close</th>\n",
       "      <th>open_predicted</th>\n",
       "      <th>close_predicted</th>\n",
       "    </tr>\n",
       "    <tr>\n",
       "      <th>Date</th>\n",
       "      <th></th>\n",
       "      <th></th>\n",
       "      <th></th>\n",
       "      <th></th>\n",
       "    </tr>\n",
       "  </thead>\n",
       "  <tbody>\n",
       "    <tr>\n",
       "      <th>2019-07-02</th>\n",
       "      <td>374.890015</td>\n",
       "      <td>375.429993</td>\n",
       "      <td>378.600769</td>\n",
       "      <td>378.126190</td>\n",
       "    </tr>\n",
       "    <tr>\n",
       "      <th>2019-07-03</th>\n",
       "      <td>376.690002</td>\n",
       "      <td>381.720001</td>\n",
       "      <td>380.282990</td>\n",
       "      <td>379.904327</td>\n",
       "    </tr>\n",
       "    <tr>\n",
       "      <th>2019-07-05</th>\n",
       "      <td>378.290009</td>\n",
       "      <td>380.549988</td>\n",
       "      <td>384.732758</td>\n",
       "      <td>384.283691</td>\n",
       "    </tr>\n",
       "    <tr>\n",
       "      <th>2019-07-08</th>\n",
       "      <td>378.190002</td>\n",
       "      <td>376.160004</td>\n",
       "      <td>384.371857</td>\n",
       "      <td>383.992035</td>\n",
       "    </tr>\n",
       "    <tr>\n",
       "      <th>2019-07-09</th>\n",
       "      <td>379.059998</td>\n",
       "      <td>379.929993</td>\n",
       "      <td>380.286621</td>\n",
       "      <td>379.988525</td>\n",
       "    </tr>\n",
       "    <tr>\n",
       "      <th>...</th>\n",
       "      <td>...</td>\n",
       "      <td>...</td>\n",
       "      <td>...</td>\n",
       "      <td>...</td>\n",
       "    </tr>\n",
       "    <tr>\n",
       "      <th>2022-05-17</th>\n",
       "      <td>189.169998</td>\n",
       "      <td>190.559998</td>\n",
       "      <td>195.963959</td>\n",
       "      <td>196.081375</td>\n",
       "    </tr>\n",
       "    <tr>\n",
       "      <th>2022-05-18</th>\n",
       "      <td>186.720001</td>\n",
       "      <td>177.190002</td>\n",
       "      <td>199.779190</td>\n",
       "      <td>199.880905</td>\n",
       "    </tr>\n",
       "    <tr>\n",
       "      <th>2022-05-19</th>\n",
       "      <td>178.050003</td>\n",
       "      <td>183.479996</td>\n",
       "      <td>192.526428</td>\n",
       "      <td>192.728348</td>\n",
       "    </tr>\n",
       "    <tr>\n",
       "      <th>2022-05-20</th>\n",
       "      <td>185.869995</td>\n",
       "      <td>186.350006</td>\n",
       "      <td>190.620560</td>\n",
       "      <td>190.559250</td>\n",
       "    </tr>\n",
       "    <tr>\n",
       "      <th>2022-05-23</th>\n",
       "      <td>186.149994</td>\n",
       "      <td>187.440002</td>\n",
       "      <td>192.855606</td>\n",
       "      <td>192.565445</td>\n",
       "    </tr>\n",
       "  </tbody>\n",
       "</table>\n",
       "<p>730 rows × 4 columns</p>\n",
       "</div>"
      ],
      "text/plain": [
       "                  Open       Close  open_predicted  close_predicted\n",
       "Date                                                               \n",
       "2019-07-02  374.890015  375.429993      378.600769       378.126190\n",
       "2019-07-03  376.690002  381.720001      380.282990       379.904327\n",
       "2019-07-05  378.290009  380.549988      384.732758       384.283691\n",
       "2019-07-08  378.190002  376.160004      384.371857       383.992035\n",
       "2019-07-09  379.059998  379.929993      380.286621       379.988525\n",
       "...                ...         ...             ...              ...\n",
       "2022-05-17  189.169998  190.559998      195.963959       196.081375\n",
       "2022-05-18  186.720001  177.190002      199.779190       199.880905\n",
       "2022-05-19  178.050003  183.479996      192.526428       192.728348\n",
       "2022-05-20  185.869995  186.350006      190.620560       190.559250\n",
       "2022-05-23  186.149994  187.440002      192.855606       192.565445\n",
       "\n",
       "[730 rows x 4 columns]"
      ]
     },
     "execution_count": 28,
     "metadata": {},
     "output_type": "execute_result"
    }
   ],
   "source": [
    "df1"
   ]
  },
  {
   "cell_type": "code",
   "execution_count": 30,
   "id": "6c351438",
   "metadata": {},
   "outputs": [
    {
     "data": {
      "text/html": [
       "<div>\n",
       "<style scoped>\n",
       "    .dataframe tbody tr th:only-of-type {\n",
       "        vertical-align: middle;\n",
       "    }\n",
       "\n",
       "    .dataframe tbody tr th {\n",
       "        vertical-align: top;\n",
       "    }\n",
       "\n",
       "    .dataframe thead th {\n",
       "        text-align: right;\n",
       "    }\n",
       "</style>\n",
       "<table border=\"1\" class=\"dataframe\">\n",
       "  <thead>\n",
       "    <tr style=\"text-align: right;\">\n",
       "      <th></th>\n",
       "      <th>Open</th>\n",
       "      <th>Close</th>\n",
       "      <th>open_predicted</th>\n",
       "      <th>close_predicted</th>\n",
       "    </tr>\n",
       "  </thead>\n",
       "  <tbody>\n",
       "    <tr>\n",
       "      <th>2022-05-20</th>\n",
       "      <td>185.869995</td>\n",
       "      <td>186.350006</td>\n",
       "      <td>190.620560</td>\n",
       "      <td>190.559250</td>\n",
       "    </tr>\n",
       "    <tr>\n",
       "      <th>2022-05-23</th>\n",
       "      <td>186.149994</td>\n",
       "      <td>187.440002</td>\n",
       "      <td>192.855606</td>\n",
       "      <td>192.565445</td>\n",
       "    </tr>\n",
       "    <tr>\n",
       "      <th>2022-05-23</th>\n",
       "      <td>NaN</td>\n",
       "      <td>NaN</td>\n",
       "      <td>NaN</td>\n",
       "      <td>NaN</td>\n",
       "    </tr>\n",
       "    <tr>\n",
       "      <th>2022-05-24</th>\n",
       "      <td>NaN</td>\n",
       "      <td>NaN</td>\n",
       "      <td>NaN</td>\n",
       "      <td>NaN</td>\n",
       "    </tr>\n",
       "    <tr>\n",
       "      <th>2022-05-25</th>\n",
       "      <td>NaN</td>\n",
       "      <td>NaN</td>\n",
       "      <td>NaN</td>\n",
       "      <td>NaN</td>\n",
       "    </tr>\n",
       "    <tr>\n",
       "      <th>2022-05-26</th>\n",
       "      <td>NaN</td>\n",
       "      <td>NaN</td>\n",
       "      <td>NaN</td>\n",
       "      <td>NaN</td>\n",
       "    </tr>\n",
       "    <tr>\n",
       "      <th>2022-05-27</th>\n",
       "      <td>NaN</td>\n",
       "      <td>NaN</td>\n",
       "      <td>NaN</td>\n",
       "      <td>NaN</td>\n",
       "    </tr>\n",
       "    <tr>\n",
       "      <th>2022-05-28</th>\n",
       "      <td>NaN</td>\n",
       "      <td>NaN</td>\n",
       "      <td>NaN</td>\n",
       "      <td>NaN</td>\n",
       "    </tr>\n",
       "    <tr>\n",
       "      <th>2022-05-29</th>\n",
       "      <td>NaN</td>\n",
       "      <td>NaN</td>\n",
       "      <td>NaN</td>\n",
       "      <td>NaN</td>\n",
       "    </tr>\n",
       "    <tr>\n",
       "      <th>2022-05-30</th>\n",
       "      <td>NaN</td>\n",
       "      <td>NaN</td>\n",
       "      <td>NaN</td>\n",
       "      <td>NaN</td>\n",
       "    </tr>\n",
       "    <tr>\n",
       "      <th>2022-05-31</th>\n",
       "      <td>NaN</td>\n",
       "      <td>NaN</td>\n",
       "      <td>NaN</td>\n",
       "      <td>NaN</td>\n",
       "    </tr>\n",
       "  </tbody>\n",
       "</table>\n",
       "</div>"
      ],
      "text/plain": [
       "                  Open       Close  open_predicted  close_predicted\n",
       "2022-05-20  185.869995  186.350006      190.620560       190.559250\n",
       "2022-05-23  186.149994  187.440002      192.855606       192.565445\n",
       "2022-05-23         NaN         NaN             NaN              NaN\n",
       "2022-05-24         NaN         NaN             NaN              NaN\n",
       "2022-05-25         NaN         NaN             NaN              NaN\n",
       "2022-05-26         NaN         NaN             NaN              NaN\n",
       "2022-05-27         NaN         NaN             NaN              NaN\n",
       "2022-05-28         NaN         NaN             NaN              NaN\n",
       "2022-05-29         NaN         NaN             NaN              NaN\n",
       "2022-05-30         NaN         NaN             NaN              NaN\n",
       "2022-05-31         NaN         NaN             NaN              NaN"
      ]
     },
     "execution_count": 30,
     "metadata": {},
     "output_type": "execute_result"
    }
   ],
   "source": [
    "# Creating a dataframe and adding 10 days to existing index \n",
    "\n",
    "df2 = pd.concat([df1,pd.DataFrame(columns=df1.columns,\n",
    "                                        index=pd.date_range(start=df1.index[-1], periods=11, freq='D'))],axis=0)\n",
    "df2['2022-05-20':'2022-05-31']"
   ]
  },
  {
   "cell_type": "code",
   "execution_count": 31,
   "id": "6a92ff7b",
   "metadata": {},
   "outputs": [],
   "source": [
    "# creating a DataFrame and filling values of open and close column\n",
    "forthcoming_prediction = pd.DataFrame(columns=['open','close'],index=df1.index)\n",
    "forthcoming_prediction.index=pd.to_datetime(forthcoming_prediction.index)"
   ]
  },
  {
   "cell_type": "code",
   "execution_count": 32,
   "id": "60f60307",
   "metadata": {},
   "outputs": [
    {
     "name": "stdout",
     "output_type": "stream",
     "text": [
      "1/1 [==============================] - 0s 170ms/step\n",
      "1/1 [==============================] - 0s 60ms/step\n",
      "1/1 [==============================] - 0s 50ms/step\n",
      "1/1 [==============================] - 0s 59ms/step\n",
      "1/1 [==============================] - 0s 51ms/step\n",
      "1/1 [==============================] - 0s 61ms/step\n",
      "1/1 [==============================] - 0s 65ms/step\n",
      "1/1 [==============================] - 0s 55ms/step\n",
      "1/1 [==============================] - 0s 47ms/step\n",
      "1/1 [==============================] - 0s 60ms/step\n"
     ]
    }
   ],
   "source": [
    "curr_seq = test_seq[-1:]\n",
    "\n",
    "for i in range(-10,0):\n",
    "  up_pred = model.predict(curr_seq)\n",
    "  forthcoming_prediction.iloc[i] = up_pred\n",
    "  curr_seq = np.append(curr_seq[0][1:],up_pred,axis=0)\n",
    "  curr_seq = curr_seq.reshape(test_seq[-1:].shape)"
   ]
  },
  {
   "cell_type": "code",
   "execution_count": 33,
   "id": "093abd19",
   "metadata": {},
   "outputs": [],
   "source": [
    "# inversing Normalization/scaling\n",
    "forthcoming_prediction[['open','close']] = MMS.inverse_transform(forthcoming_prediction[['open','close']])"
   ]
  },
  {
   "cell_type": "code",
   "execution_count": 36,
   "id": "82a522e6",
   "metadata": {},
   "outputs": [
    {
     "data": {
      "image/png": "[encoded data removed]",
      "text/plain": [
       "<Figure size 1000x500 with 1 Axes>"
      ]
     },
     "metadata": {},
     "output_type": "display_data"
    }
   ],
   "source": [
    "# plotting forthcoming Open price on date index\n",
    "fig,ax=plt.subplots(figsize=(10,5))\n",
    "ax.plot(df1.loc['2022-01-31':,'Open'],label='Current Open Price')\n",
    "ax.plot(forthcoming_prediction.loc['2022-01-31':,'open'],label='Upcoming Open Price')\n",
    "plt.setp(ax.xaxis.get_majorticklabels(), rotation=45)\n",
    "ax.set_xlabel('Date',size=15)\n",
    "ax.set_ylabel('Stock Price',size=15)\n",
    "ax.set_title('forthcoming Open price prediction',size=15)\n",
    "ax.legend()\n",
    "fig.show()"
   ]
  },
  {
   "cell_type": "code",
   "execution_count": 37,
   "id": "4d17d870",
   "metadata": {},
   "outputs": [
    {
     "data": {
      "image/png": "[encoded data removed]",
      "text/plain": [
       "<Figure size 1000x500 with 1 Axes>"
      ]
     },
     "metadata": {},
     "output_type": "display_data"
    }
   ],
   "source": [
    "# plotting Upcoming Open price on date index\n",
    "fig,ax=plt.subplots(figsize=(10,5))\n",
    "ax.plot(df1.loc['2022-01-24':,'Close'],label='Current close Price')\n",
    "ax.plot(forthcoming_prediction.loc['2022-01-24':,'close'],label='Upcoming close Price')\n",
    "plt.setp(ax.xaxis.get_majorticklabels(), rotation=45)\n",
    "ax.set_xlabel('Date',size=15)\n",
    "ax.set_ylabel('Stock Price',size=15)\n",
    "ax.set_title('forthcoming close price prediction',size=15)\n",
    "ax.legend()\n",
    "fig.show()"
   ]
  }
 ],
 "metadata": {
  "kernelspec": {
   "display_name": "Python 3 (ipykernel)",
   "language": "python",
   "name": "python3"
  },
  "language_info": {
   "codemirror_mode": {
    "name": "ipython",
    "version": 3
   },
   "file_extension": ".py",
   "mimetype": "text/x-python",
   "name": "python",
   "nbconvert_exporter": "python",
   "pygments_lexer": "ipython3",
   "version": "3.11.4"
  }
 },
 "nbformat": 4,
 "nbformat_minor": 5
}
